{
  "cells": [
    {
      "cell_type": "markdown",
      "metadata": {},
      "source": [
        "---\n",
        "title: \"Slides\"\n",
        "subtitle: \"Subtitle\"\n",
        "author: \"Raza Rafique\"\n",
        "date: \"2025-01-18\"\n",
        "toc: True\n",
        "echo: False\n",
        "format: \n",
        "    revealjs: default\n",
        "---\n",
        "\n",
        "\n",
        "# Title\n",
        "\n",
        "## Test Python\n",
        "Quarto is a powerful tool for creating **dynamic documents** and *interactive reports*. It supports multiple programming languages, including **Python**, **R**, and **Julia**, making it versatile for data analysis and visualization. You can use *Markdown syntax* to format your text, such as making it **bold**, *italic*, or even combining both for ***emphasis***. This flexibility ensures that you can create **professional-looking documents** with ease.\n",
        "\n",
        "## Bullet Points Example\n",
        "\n",
        "Here is a simple list of items:\n",
        "\n",
        "- **Fruits**: \n",
        "  - Apple\n",
        "  - Banana\n",
        "  - Orange\n",
        "- **Vegetables**:\n",
        "  - Carrot\n",
        "  - Broccoli\n",
        "  - Spinach\n",
        "- **Dairy Products**:\n",
        "  - Milk\n",
        "  - Cheese\n",
        "  - Yogurt\n",
        "\n",
        "## Ordered List Example\n",
        "\n",
        "Here is a simple ordered list of steps:\n",
        "\n",
        "1. **Plan Your Project**:\n",
        "   - Define goals.\n",
        "   - Identify resources.\n",
        "2. **Develop the Solution**:\n",
        "   - Write code.\n",
        "   - Test the implementation.\n",
        "3. **Deploy and Monitor**:\n",
        "   - Deploy the project.\n",
        "   - Monitor performance and gather feedback.\n",
        "\n",
        "## Ordered List with Letters\n",
        "\n",
        "Here is an ordered list using letters:\n",
        "\n",
        "a. **Choose a Topic**:\n",
        "   - Brainstorm ideas.\n",
        "   - Select a focus area.\n",
        "b. **Research the Topic**:\n",
        "   - Gather relevant information.\n",
        "   - Organize key points.\n",
        "c. **Create the Content**:\n",
        "   - Write the draft.\n",
        "   - Revise and edit.\n"
      ],
      "id": "a183f975"
    },
    {
      "cell_type": "code",
      "metadata": {},
      "source": [
        "print(\"Hello World\")"
      ],
      "id": "5f97c4b5",
      "execution_count": null,
      "outputs": []
    },
    {
      "cell_type": "markdown",
      "metadata": {},
      "source": [
        "## Test Pandas Matplotlib"
      ],
      "id": "cb5240e1"
    },
    {
      "cell_type": "code",
      "metadata": {},
      "source": [
        "import pandas as pd\n",
        "import matplotlib.pyplot as plt\n",
        "\n",
        "# Example data: creating a DataFrame\n",
        "data = {\n",
        "    'Age': [23, 45, 31, 22, 45, 37, 28, 33, 40, 29, 31, 25, 34, 27, 39]\n",
        "}\n",
        "df = pd.DataFrame(data)\n",
        "\n",
        "# Plotting the histogram\n",
        "plt.hist(df['Age'], bins=5, edgecolor='black', color='skyblue')\n",
        "\n",
        "# Adding labels and title\n",
        "plt.xlabel('Age')\n",
        "plt.ylabel('Frequency')\n",
        "plt.title('Age Distribution')\n",
        "\n",
        "# Display the plot\n",
        "plt.show()"
      ],
      "id": "c0bb4d18",
      "execution_count": null,
      "outputs": []
    }
  ],
  "metadata": {
    "kernelspec": {
      "display_name": "Python 3",
      "language": "python",
      "name": "python3"
    }
  },
  "nbformat": 4,
  "nbformat_minor": 5
}